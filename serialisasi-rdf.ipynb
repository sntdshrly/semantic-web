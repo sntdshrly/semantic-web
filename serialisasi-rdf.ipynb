{
 "cells": [
  {
   "cell_type": "code",
   "execution_count": 1,
   "id": "e04cb632",
   "metadata": {
    "_cell_guid": "b1076dfc-b9ad-4769-8c92-a6c4dae69d19",
    "_uuid": "8f2839f25d086af736a60e9eeb907d3b93b6e0e5",
    "execution": {
     "iopub.execute_input": "2023-11-11T11:12:25.857960Z",
     "iopub.status.busy": "2023-11-11T11:12:25.857598Z",
     "iopub.status.idle": "2023-11-11T11:12:37.782401Z",
     "shell.execute_reply": "2023-11-11T11:12:37.781305Z"
    },
    "papermill": {
     "duration": 11.930718,
     "end_time": "2023-11-11T11:12:37.784789",
     "exception": false,
     "start_time": "2023-11-11T11:12:25.854071",
     "status": "completed"
    },
    "tags": []
   },
   "outputs": [
    {
     "name": "stdout",
     "output_type": "stream",
     "text": [
      "Collecting rdflib\r\n",
      "  Obtaining dependency information for rdflib from https://files.pythonhosted.org/packages/d4/b0/7b7d8b5b0d01f1a0b12cc2e5038a868ef3a15825731b8a0d776cf47566c0/rdflib-7.0.0-py3-none-any.whl.metadata\r\n",
      "  Downloading rdflib-7.0.0-py3-none-any.whl.metadata (11 kB)\r\n",
      "Collecting isodate<0.7.0,>=0.6.0 (from rdflib)\r\n",
      "  Downloading isodate-0.6.1-py2.py3-none-any.whl (41 kB)\r\n",
      "\u001b[2K     \u001b[90m━━━━━━━━━━━━━━━━━━━━━━━━━━━━━━━━━━━━━━━━\u001b[0m \u001b[32m41.7/41.7 kB\u001b[0m \u001b[31m1.5 MB/s\u001b[0m eta \u001b[36m0:00:00\u001b[0m\r\n",
      "\u001b[?25hRequirement already satisfied: pyparsing<4,>=2.1.0 in /opt/conda/lib/python3.10/site-packages (from rdflib) (3.0.9)\r\n",
      "Requirement already satisfied: six in /opt/conda/lib/python3.10/site-packages (from isodate<0.7.0,>=0.6.0->rdflib) (1.16.0)\r\n",
      "Downloading rdflib-7.0.0-py3-none-any.whl (531 kB)\r\n",
      "\u001b[2K   \u001b[90m━━━━━━━━━━━━━━━━━━━━━━━━━━━━━━━━━━━━━━━━\u001b[0m \u001b[32m531.9/531.9 kB\u001b[0m \u001b[31m10.5 MB/s\u001b[0m eta \u001b[36m0:00:00\u001b[0m\r\n",
      "\u001b[?25hInstalling collected packages: isodate, rdflib\r\n",
      "Successfully installed isodate-0.6.1 rdflib-7.0.0\r\n",
      "Note: you may need to restart the kernel to use updated packages.\n"
     ]
    }
   ],
   "source": [
    "pip install rdflib"
   ]
  },
  {
   "cell_type": "code",
   "execution_count": 2,
   "id": "47859fbd",
   "metadata": {
    "execution": {
     "iopub.execute_input": "2023-11-11T11:12:37.791541Z",
     "iopub.status.busy": "2023-11-11T11:12:37.790963Z",
     "iopub.status.idle": "2023-11-11T11:12:37.925087Z",
     "shell.execute_reply": "2023-11-11T11:12:37.923941Z"
    },
    "papermill": {
     "duration": 0.140143,
     "end_time": "2023-11-11T11:12:37.927471",
     "exception": false,
     "start_time": "2023-11-11T11:12:37.787328",
     "status": "completed"
    },
    "tags": []
   },
   "outputs": [],
   "source": [
    "from rdflib import Graph, Literal, Namespace, RDF\n",
    "\n",
    "# Membuat objek Graph\n",
    "g = Graph()\n",
    "\n",
    "# Mendifinisikan namespace\n",
    "ex = Namespace(\"http://transport.data.gov.uk/\")\n",
    "\n",
    "# Menambahkan triples ke Graph\n",
    "g.add((ex.stop_point_BAYFORD, RDF.type, ex.station))\n",
    "g.add((ex.stop_point_BAYFORD, RDF.type, ex.StopPoint))\n",
    "g.add((ex.stop_point_BAYFORD, RDF.type, ex.RailAccessArea))\n",
    "g.add((ex.stop_point_BAYFORD, ex.crsRef, Literal(\"BAY\")))\n",
    "g.add((ex.stop_point_BAYFORD, ex.tiplocRef, Literal(\"BAYFORD\")))\n",
    "g.add((ex.station_BAY, ex.crsRef, Literal(\"BAY\")))\n",
    "g.add((ex.station_BAY, ex.tiplocRef, Literal(\"BAYFORD\")))\n",
    "g.add((ex.station_BAY, ex.prefLabel, Literal(\"Bayford Rail Station\")))\n",
    "\n",
    "# Serialisasi ke RDF/XML\n",
    "rdfxml_data = g.serialize(format=\"xml\")\n",
    "\n",
    "# Serialisasi ke Turtle\n",
    "turtle_data = g.serialize(format=\"turtle\")\n",
    "\n",
    "# Serialisasi ke N-Triples\n",
    "nt_data = g.serialize(format=\"nt\")\n",
    "\n",
    "# Menyimpan hasil serialisasi ke file jika diperlukan\n",
    "with open(\"output.rdf\", \"w\", encoding=\"utf-8\") as rdfxml_file:\n",
    "    rdfxml_file.write(rdfxml_data)\n",
    "\n",
    "with open(\"output.ttl\", \"w\", encoding=\"utf-8\") as turtle_file:\n",
    "    turtle_file.write(turtle_data)\n",
    "\n",
    "with open(\"output.nt\", \"w\", encoding=\"utf-8\") as nt_file:\n",
    "    nt_file.write(nt_data)"
   ]
  },
  {
   "cell_type": "code",
   "execution_count": null,
   "id": "2c1563ce",
   "metadata": {
    "papermill": {
     "duration": 0.001899,
     "end_time": "2023-11-11T11:12:37.931705",
     "exception": false,
     "start_time": "2023-11-11T11:12:37.929806",
     "status": "completed"
    },
    "tags": []
   },
   "outputs": [],
   "source": []
  }
 ],
 "metadata": {
  "kaggle": {
   "accelerator": "none",
   "dataSources": [],
   "dockerImageVersionId": 30579,
   "isGpuEnabled": false,
   "isInternetEnabled": true,
   "language": "python",
   "sourceType": "notebook"
  },
  "kernelspec": {
   "display_name": "Python 3",
   "language": "python",
   "name": "python3"
  },
  "language_info": {
   "codemirror_mode": {
    "name": "ipython",
    "version": 3
   },
   "file_extension": ".py",
   "mimetype": "text/x-python",
   "name": "python",
   "nbconvert_exporter": "python",
   "pygments_lexer": "ipython3",
   "version": "3.10.12"
  },
  "papermill": {
   "default_parameters": {},
   "duration": 15.098698,
   "end_time": "2023-11-11T11:12:38.354627",
   "environment_variables": {},
   "exception": null,
   "input_path": "__notebook__.ipynb",
   "output_path": "__notebook__.ipynb",
   "parameters": {},
   "start_time": "2023-11-11T11:12:23.255929",
   "version": "2.4.0"
  }
 },
 "nbformat": 4,
 "nbformat_minor": 5
}
